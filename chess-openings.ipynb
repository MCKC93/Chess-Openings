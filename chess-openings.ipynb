{
 "cells": [
  {
   "cell_type": "markdown",
   "id": "e076821a",
   "metadata": {
    "papermill": {
     "duration": 0.008395,
     "end_time": "2025-02-10T14:51:45.782256",
     "exception": false,
     "start_time": "2025-02-10T14:51:45.773861",
     "status": "completed"
    },
    "tags": []
   },
   "source": [
    "# Data Science project: Chess Openings\n",
    "## Predict the best defense given White's opening type\n",
    "\n",
    "**Author:** Matteo Ciccarese"
   ]
  },
  {
   "cell_type": "markdown",
   "id": "a5fbd620",
   "metadata": {
    "papermill": {
     "duration": 0.006031,
     "end_time": "2025-02-10T14:51:45.794883",
     "exception": false,
     "start_time": "2025-02-10T14:51:45.788852",
     "status": "completed"
    },
    "tags": []
   },
   "source": [
    "This project is an exercise in data science, where the main goal is to analyze and predict the best defenses of black based on the openings of white in a chess game. We explored Random Forest as a machine learning model to try to identify patterns in the moves and improve the predictions. \n",
    "\n",
    "**As this is an educational project, any feedback, comments or suggestions to improve our approach are more than welcome! We are open to suggestions to refine the methodology and obtain more accurate results.**"
   ]
  },
  {
   "cell_type": "markdown",
   "id": "c7a1213f",
   "metadata": {
    "papermill": {
     "duration": 0.006022,
     "end_time": "2025-02-10T14:51:45.807283",
     "exception": false,
     "start_time": "2025-02-10T14:51:45.801261",
     "status": "completed"
    },
    "tags": []
   },
   "source": [
    "### Dataset:\n",
    "\n",
    "The High-Elo Games Chess Opening Dataset from Kaggle is a dataset that collects games played by high-level (high Elo) players, focusing on openings and early responses. It contains detailed information about each game, such as the opening moves of white and black, the name of the opening, the outcome of the game, and other details useful for analyzing the best strategies. This dataset is ideal for studying opening trends and evaluating the most effective defenses for black based on white's choices."
   ]
  },
  {
   "cell_type": "code",
   "execution_count": 1,
   "id": "a28d4757",
   "metadata": {
    "_cell_guid": "b1076dfc-b9ad-4769-8c92-a6c4dae69d19",
    "_uuid": "8f2839f25d086af736a60e9eeb907d3b93b6e0e5",
    "execution": {
     "iopub.execute_input": "2025-02-10T14:51:45.821517Z",
     "iopub.status.busy": "2025-02-10T14:51:45.821134Z",
     "iopub.status.idle": "2025-02-10T14:51:46.915230Z",
     "shell.execute_reply": "2025-02-10T14:51:46.913725Z"
    },
    "papermill": {
     "duration": 1.103906,
     "end_time": "2025-02-10T14:51:46.917512",
     "exception": false,
     "start_time": "2025-02-10T14:51:45.813606",
     "status": "completed"
    },
    "tags": []
   },
   "outputs": [
    {
     "name": "stdout",
     "output_type": "stream",
     "text": [
      "/kaggle/input/chess-opening-dataset/high_elo_opening.csv\n"
     ]
    }
   ],
   "source": [
    "# This Python 3 environment comes with many helpful analytics libraries installed\n",
    "# It is defined by the kaggle/python Docker image: https://github.com/kaggle/docker-python\n",
    "# For example, here's several helpful packages to load\n",
    "\n",
    "import numpy as np # linear algebra\n",
    "import pandas as pd # data processing, CSV file I/O (e.g. pd.read_csv)\n",
    "\n",
    "# Input data files are available in the read-only \"../input/\" directory\n",
    "# For example, running this (by clicking run or pressing Shift+Enter) will list all files under the input directory\n",
    "\n",
    "import os\n",
    "for dirname, _, filenames in os.walk('/kaggle/input'):\n",
    "    for filename in filenames:\n",
    "        print(os.path.join(dirname, filename))\n",
    "\n",
    "# You can write up to 20GB to the current directory (/kaggle/working/) that gets preserved as output when you create a version using \"Save & Run All\" \n",
    "# You can also write temporary files to /kaggle/temp/, but they won't be saved outside of the current session"
   ]
  },
  {
   "cell_type": "markdown",
   "id": "86be8166",
   "metadata": {
    "papermill": {
     "duration": 0.00682,
     "end_time": "2025-02-10T14:51:46.931183",
     "exception": false,
     "start_time": "2025-02-10T14:51:46.924363",
     "status": "completed"
    },
    "tags": []
   },
   "source": [
    "## Libraries"
   ]
  },
  {
   "cell_type": "code",
   "execution_count": 2,
   "id": "d3727dc5",
   "metadata": {
    "execution": {
     "iopub.execute_input": "2025-02-10T14:51:46.948229Z",
     "iopub.status.busy": "2025-02-10T14:51:46.947661Z",
     "iopub.status.idle": "2025-02-10T14:51:48.972627Z",
     "shell.execute_reply": "2025-02-10T14:51:48.971480Z"
    },
    "papermill": {
     "duration": 2.035947,
     "end_time": "2025-02-10T14:51:48.974569",
     "exception": false,
     "start_time": "2025-02-10T14:51:46.938622",
     "status": "completed"
    },
    "tags": []
   },
   "outputs": [],
   "source": [
    "import pandas as pd\n",
    "import seaborn as sns\n",
    "import matplotlib.pyplot as plt"
   ]
  },
  {
   "cell_type": "markdown",
   "id": "0f011a99",
   "metadata": {
    "papermill": {
     "duration": 0.006722,
     "end_time": "2025-02-10T14:51:48.988565",
     "exception": false,
     "start_time": "2025-02-10T14:51:48.981843",
     "status": "completed"
    },
    "tags": []
   },
   "source": [
    "## Loading and Exploratory Data Analysis (EDA)"
   ]
  },
  {
   "cell_type": "code",
   "execution_count": 3,
   "id": "894cf841",
   "metadata": {
    "execution": {
     "iopub.execute_input": "2025-02-10T14:51:49.002943Z",
     "iopub.status.busy": "2025-02-10T14:51:49.002353Z",
     "iopub.status.idle": "2025-02-10T14:51:49.081690Z",
     "shell.execute_reply": "2025-02-10T14:51:49.080591Z"
    },
    "papermill": {
     "duration": 0.08838,
     "end_time": "2025-02-10T14:51:49.083412",
     "exception": false,
     "start_time": "2025-02-10T14:51:48.995032",
     "status": "completed"
    },
    "tags": []
   },
   "outputs": [
    {
     "data": {
      "text/html": [
       "<div>\n",
       "<style scoped>\n",
       "    .dataframe tbody tr th:only-of-type {\n",
       "        vertical-align: middle;\n",
       "    }\n",
       "\n",
       "    .dataframe tbody tr th {\n",
       "        vertical-align: top;\n",
       "    }\n",
       "\n",
       "    .dataframe thead th {\n",
       "        text-align: right;\n",
       "    }\n",
       "</style>\n",
       "<table border=\"1\" class=\"dataframe\">\n",
       "  <thead>\n",
       "    <tr style=\"text-align: right;\">\n",
       "      <th></th>\n",
       "      <th>opening_name</th>\n",
       "      <th>side</th>\n",
       "      <th>num_games</th>\n",
       "      <th>ECO</th>\n",
       "      <th>last_played_date</th>\n",
       "      <th>perf_rating</th>\n",
       "      <th>avg_player</th>\n",
       "      <th>perc_player_win</th>\n",
       "      <th>perc_draw</th>\n",
       "      <th>pec_opponent_win</th>\n",
       "      <th>...</th>\n",
       "      <th>move2b</th>\n",
       "      <th>move3w</th>\n",
       "      <th>move3b</th>\n",
       "      <th>move4w</th>\n",
       "      <th>move4b</th>\n",
       "      <th>perc_white_win</th>\n",
       "      <th>perc_black_win</th>\n",
       "      <th>white_odds</th>\n",
       "      <th>white_wins</th>\n",
       "      <th>black_wins</th>\n",
       "    </tr>\n",
       "  </thead>\n",
       "  <tbody>\n",
       "    <tr>\n",
       "      <th>0</th>\n",
       "      <td>Alekhine Defense, Balogh Variation</td>\n",
       "      <td>white</td>\n",
       "      <td>692</td>\n",
       "      <td>B03</td>\n",
       "      <td>2018-06-22</td>\n",
       "      <td>2247</td>\n",
       "      <td>2225</td>\n",
       "      <td>40.8</td>\n",
       "      <td>24.3</td>\n",
       "      <td>35.0</td>\n",
       "      <td>...</td>\n",
       "      <td>Nd5</td>\n",
       "      <td>d4</td>\n",
       "      <td>d6</td>\n",
       "      <td>Bc4</td>\n",
       "      <td>NaN</td>\n",
       "      <td>40.8</td>\n",
       "      <td>35.0</td>\n",
       "      <td>1.165714</td>\n",
       "      <td>282.336</td>\n",
       "      <td>242.200</td>\n",
       "    </tr>\n",
       "    <tr>\n",
       "      <th>1</th>\n",
       "      <td>Alekhine Defense, Brooklyn Variation</td>\n",
       "      <td>black</td>\n",
       "      <td>228</td>\n",
       "      <td>B02</td>\n",
       "      <td>2018-06-27</td>\n",
       "      <td>2145</td>\n",
       "      <td>2193</td>\n",
       "      <td>29.8</td>\n",
       "      <td>22.4</td>\n",
       "      <td>47.8</td>\n",
       "      <td>...</td>\n",
       "      <td>Ng8</td>\n",
       "      <td>NaN</td>\n",
       "      <td>NaN</td>\n",
       "      <td>NaN</td>\n",
       "      <td>NaN</td>\n",
       "      <td>47.8</td>\n",
       "      <td>29.8</td>\n",
       "      <td>1.604027</td>\n",
       "      <td>108.984</td>\n",
       "      <td>67.944</td>\n",
       "    </tr>\n",
       "    <tr>\n",
       "      <th>2</th>\n",
       "      <td>Alekhine Defense, Exchange Variation</td>\n",
       "      <td>white</td>\n",
       "      <td>6485</td>\n",
       "      <td>B03</td>\n",
       "      <td>2018-07-06</td>\n",
       "      <td>2244</td>\n",
       "      <td>2194</td>\n",
       "      <td>40.8</td>\n",
       "      <td>27.7</td>\n",
       "      <td>31.5</td>\n",
       "      <td>...</td>\n",
       "      <td>Nd5</td>\n",
       "      <td>d4</td>\n",
       "      <td>d6</td>\n",
       "      <td>c4</td>\n",
       "      <td>Nb6</td>\n",
       "      <td>40.8</td>\n",
       "      <td>31.5</td>\n",
       "      <td>1.295238</td>\n",
       "      <td>2645.880</td>\n",
       "      <td>2042.775</td>\n",
       "    </tr>\n",
       "    <tr>\n",
       "      <th>3</th>\n",
       "      <td>Alekhine Defense, Four Pawns Attack</td>\n",
       "      <td>white</td>\n",
       "      <td>881</td>\n",
       "      <td>B03</td>\n",
       "      <td>2018-06-20</td>\n",
       "      <td>2187</td>\n",
       "      <td>2130</td>\n",
       "      <td>39.7</td>\n",
       "      <td>23.2</td>\n",
       "      <td>37.1</td>\n",
       "      <td>...</td>\n",
       "      <td>Nd5</td>\n",
       "      <td>d4</td>\n",
       "      <td>d6</td>\n",
       "      <td>c4</td>\n",
       "      <td>Nb6</td>\n",
       "      <td>39.7</td>\n",
       "      <td>37.1</td>\n",
       "      <td>1.070081</td>\n",
       "      <td>349.757</td>\n",
       "      <td>326.851</td>\n",
       "    </tr>\n",
       "    <tr>\n",
       "      <th>4</th>\n",
       "      <td>Alekhine Defense, Four Pawns Attack, Fianchett...</td>\n",
       "      <td>black</td>\n",
       "      <td>259</td>\n",
       "      <td>B03</td>\n",
       "      <td>2018-05-20</td>\n",
       "      <td>2122</td>\n",
       "      <td>2178</td>\n",
       "      <td>37.8</td>\n",
       "      <td>21.2</td>\n",
       "      <td>40.9</td>\n",
       "      <td>...</td>\n",
       "      <td>Nd5</td>\n",
       "      <td>d4</td>\n",
       "      <td>d6</td>\n",
       "      <td>c4</td>\n",
       "      <td>Nb6</td>\n",
       "      <td>40.9</td>\n",
       "      <td>37.8</td>\n",
       "      <td>1.082011</td>\n",
       "      <td>105.931</td>\n",
       "      <td>97.902</td>\n",
       "    </tr>\n",
       "  </tbody>\n",
       "</table>\n",
       "<p>5 rows × 24 columns</p>\n",
       "</div>"
      ],
      "text/plain": [
       "                                        opening_name   side  num_games  ECO  \\\n",
       "0                 Alekhine Defense, Balogh Variation  white        692  B03   \n",
       "1               Alekhine Defense, Brooklyn Variation  black        228  B02   \n",
       "2               Alekhine Defense, Exchange Variation  white       6485  B03   \n",
       "3                Alekhine Defense, Four Pawns Attack  white        881  B03   \n",
       "4  Alekhine Defense, Four Pawns Attack, Fianchett...  black        259  B03   \n",
       "\n",
       "  last_played_date  perf_rating  avg_player  perc_player_win  perc_draw  \\\n",
       "0       2018-06-22         2247        2225             40.8       24.3   \n",
       "1       2018-06-27         2145        2193             29.8       22.4   \n",
       "2       2018-07-06         2244        2194             40.8       27.7   \n",
       "3       2018-06-20         2187        2130             39.7       23.2   \n",
       "4       2018-05-20         2122        2178             37.8       21.2   \n",
       "\n",
       "   pec_opponent_win  ... move2b move3w move3b move4w move4b perc_white_win  \\\n",
       "0              35.0  ...    Nd5     d4     d6    Bc4    NaN           40.8   \n",
       "1              47.8  ...    Ng8    NaN    NaN    NaN    NaN           47.8   \n",
       "2              31.5  ...    Nd5     d4     d6     c4    Nb6           40.8   \n",
       "3              37.1  ...    Nd5     d4     d6     c4    Nb6           39.7   \n",
       "4              40.9  ...    Nd5     d4     d6     c4    Nb6           40.9   \n",
       "\n",
       "  perc_black_win white_odds white_wins  black_wins  \n",
       "0           35.0   1.165714    282.336     242.200  \n",
       "1           29.8   1.604027    108.984      67.944  \n",
       "2           31.5   1.295238   2645.880    2042.775  \n",
       "3           37.1   1.070081    349.757     326.851  \n",
       "4           37.8   1.082011    105.931      97.902  \n",
       "\n",
       "[5 rows x 24 columns]"
      ]
     },
     "execution_count": 3,
     "metadata": {},
     "output_type": "execute_result"
    }
   ],
   "source": [
    "df = pd.read_csv('/kaggle/input/chess-opening-dataset/high_elo_opening.csv')\n",
    "df.head()"
   ]
  },
  {
   "cell_type": "code",
   "execution_count": 4,
   "id": "d4c57fe6",
   "metadata": {
    "execution": {
     "iopub.execute_input": "2025-02-10T14:51:49.098982Z",
     "iopub.status.busy": "2025-02-10T14:51:49.098589Z",
     "iopub.status.idle": "2025-02-10T14:51:49.138267Z",
     "shell.execute_reply": "2025-02-10T14:51:49.137218Z"
    },
    "papermill": {
     "duration": 0.049583,
     "end_time": "2025-02-10T14:51:49.139941",
     "exception": false,
     "start_time": "2025-02-10T14:51:49.090358",
     "status": "completed"
    },
    "tags": []
   },
   "outputs": [
    {
     "data": {
      "text/html": [
       "<div>\n",
       "<style scoped>\n",
       "    .dataframe tbody tr th:only-of-type {\n",
       "        vertical-align: middle;\n",
       "    }\n",
       "\n",
       "    .dataframe tbody tr th {\n",
       "        vertical-align: top;\n",
       "    }\n",
       "\n",
       "    .dataframe thead th {\n",
       "        text-align: right;\n",
       "    }\n",
       "</style>\n",
       "<table border=\"1\" class=\"dataframe\">\n",
       "  <thead>\n",
       "    <tr style=\"text-align: right;\">\n",
       "      <th></th>\n",
       "      <th>num_games</th>\n",
       "      <th>perf_rating</th>\n",
       "      <th>avg_player</th>\n",
       "      <th>perc_player_win</th>\n",
       "      <th>perc_draw</th>\n",
       "      <th>pec_opponent_win</th>\n",
       "      <th>perc_white_win</th>\n",
       "      <th>perc_black_win</th>\n",
       "      <th>white_odds</th>\n",
       "      <th>white_wins</th>\n",
       "      <th>black_wins</th>\n",
       "    </tr>\n",
       "  </thead>\n",
       "  <tbody>\n",
       "    <tr>\n",
       "      <th>count</th>\n",
       "      <td>1884.000000</td>\n",
       "      <td>1884.000000</td>\n",
       "      <td>1884.000000</td>\n",
       "      <td>1884.000000</td>\n",
       "      <td>1884.000000</td>\n",
       "      <td>1884.000000</td>\n",
       "      <td>1884.000000</td>\n",
       "      <td>1884.000000</td>\n",
       "      <td>1884.000000</td>\n",
       "      <td>1884.000000</td>\n",
       "      <td>1884.000000</td>\n",
       "    </tr>\n",
       "    <tr>\n",
       "      <th>mean</th>\n",
       "      <td>1846.019108</td>\n",
       "      <td>2235.945860</td>\n",
       "      <td>2236.531847</td>\n",
       "      <td>35.159395</td>\n",
       "      <td>29.914066</td>\n",
       "      <td>34.928715</td>\n",
       "      <td>39.745701</td>\n",
       "      <td>30.342410</td>\n",
       "      <td>1.448725</td>\n",
       "      <td>708.835970</td>\n",
       "      <td>557.051955</td>\n",
       "    </tr>\n",
       "    <tr>\n",
       "      <th>std</th>\n",
       "      <td>2739.103462</td>\n",
       "      <td>135.260392</td>\n",
       "      <td>127.723711</td>\n",
       "      <td>9.077139</td>\n",
       "      <td>8.043043</td>\n",
       "      <td>9.180450</td>\n",
       "      <td>7.671108</td>\n",
       "      <td>7.976305</td>\n",
       "      <td>0.673991</td>\n",
       "      <td>1037.027669</td>\n",
       "      <td>866.788831</td>\n",
       "    </tr>\n",
       "    <tr>\n",
       "      <th>min</th>\n",
       "      <td>100.000000</td>\n",
       "      <td>1583.000000</td>\n",
       "      <td>1577.000000</td>\n",
       "      <td>7.500000</td>\n",
       "      <td>4.000000</td>\n",
       "      <td>6.700000</td>\n",
       "      <td>13.600000</td>\n",
       "      <td>6.700000</td>\n",
       "      <td>0.308642</td>\n",
       "      <td>21.000000</td>\n",
       "      <td>8.946000</td>\n",
       "    </tr>\n",
       "    <tr>\n",
       "      <th>25%</th>\n",
       "      <td>314.750000</td>\n",
       "      <td>2157.000000</td>\n",
       "      <td>2166.000000</td>\n",
       "      <td>28.900000</td>\n",
       "      <td>24.500000</td>\n",
       "      <td>28.900000</td>\n",
       "      <td>34.800000</td>\n",
       "      <td>25.100000</td>\n",
       "      <td>1.037277</td>\n",
       "      <td>124.740500</td>\n",
       "      <td>91.026250</td>\n",
       "    </tr>\n",
       "    <tr>\n",
       "      <th>50%</th>\n",
       "      <td>788.500000</td>\n",
       "      <td>2252.500000</td>\n",
       "      <td>2255.000000</td>\n",
       "      <td>35.100000</td>\n",
       "      <td>29.400000</td>\n",
       "      <td>34.650000</td>\n",
       "      <td>39.100000</td>\n",
       "      <td>29.900000</td>\n",
       "      <td>1.325008</td>\n",
       "      <td>310.274000</td>\n",
       "      <td>230.952000</td>\n",
       "    </tr>\n",
       "    <tr>\n",
       "      <th>75%</th>\n",
       "      <td>2225.000000</td>\n",
       "      <td>2329.000000</td>\n",
       "      <td>2326.000000</td>\n",
       "      <td>41.125000</td>\n",
       "      <td>34.625000</td>\n",
       "      <td>40.525000</td>\n",
       "      <td>44.000000</td>\n",
       "      <td>35.000000</td>\n",
       "      <td>1.674116</td>\n",
       "      <td>824.243000</td>\n",
       "      <td>651.262750</td>\n",
       "    </tr>\n",
       "    <tr>\n",
       "      <th>max</th>\n",
       "      <td>22482.000000</td>\n",
       "      <td>2536.000000</td>\n",
       "      <td>2492.000000</td>\n",
       "      <td>77.600000</td>\n",
       "      <td>68.500000</td>\n",
       "      <td>77.500000</td>\n",
       "      <td>77.600000</td>\n",
       "      <td>64.800000</td>\n",
       "      <td>9.810127</td>\n",
       "      <td>8295.858000</td>\n",
       "      <td>8700.534000</td>\n",
       "    </tr>\n",
       "  </tbody>\n",
       "</table>\n",
       "</div>"
      ],
      "text/plain": [
       "          num_games  perf_rating   avg_player  perc_player_win    perc_draw  \\\n",
       "count   1884.000000  1884.000000  1884.000000      1884.000000  1884.000000   \n",
       "mean    1846.019108  2235.945860  2236.531847        35.159395    29.914066   \n",
       "std     2739.103462   135.260392   127.723711         9.077139     8.043043   \n",
       "min      100.000000  1583.000000  1577.000000         7.500000     4.000000   \n",
       "25%      314.750000  2157.000000  2166.000000        28.900000    24.500000   \n",
       "50%      788.500000  2252.500000  2255.000000        35.100000    29.400000   \n",
       "75%     2225.000000  2329.000000  2326.000000        41.125000    34.625000   \n",
       "max    22482.000000  2536.000000  2492.000000        77.600000    68.500000   \n",
       "\n",
       "       pec_opponent_win  perc_white_win  perc_black_win   white_odds  \\\n",
       "count       1884.000000     1884.000000     1884.000000  1884.000000   \n",
       "mean          34.928715       39.745701       30.342410     1.448725   \n",
       "std            9.180450        7.671108        7.976305     0.673991   \n",
       "min            6.700000       13.600000        6.700000     0.308642   \n",
       "25%           28.900000       34.800000       25.100000     1.037277   \n",
       "50%           34.650000       39.100000       29.900000     1.325008   \n",
       "75%           40.525000       44.000000       35.000000     1.674116   \n",
       "max           77.500000       77.600000       64.800000     9.810127   \n",
       "\n",
       "        white_wins   black_wins  \n",
       "count  1884.000000  1884.000000  \n",
       "mean    708.835970   557.051955  \n",
       "std    1037.027669   866.788831  \n",
       "min      21.000000     8.946000  \n",
       "25%     124.740500    91.026250  \n",
       "50%     310.274000   230.952000  \n",
       "75%     824.243000   651.262750  \n",
       "max    8295.858000  8700.534000  "
      ]
     },
     "execution_count": 4,
     "metadata": {},
     "output_type": "execute_result"
    }
   ],
   "source": [
    "df.describe()"
   ]
  },
  {
   "cell_type": "markdown",
   "id": "22a09ac4",
   "metadata": {
    "papermill": {
     "duration": 0.006801,
     "end_time": "2025-02-10T14:51:49.153975",
     "exception": false,
     "start_time": "2025-02-10T14:51:49.147174",
     "status": "completed"
    },
    "tags": []
   },
   "source": [
    "### Key observations:\n",
    "1. Games are played by players with an average rating of around 2236, which is high level.\n",
    "2. Some openings are played much more than others, as the maximum number of games for an opening is 22,482, while the minimum is only 100.\n",
    "3. The win percentage varies greatly:\n",
    "   - White's average win rate is 39.7%, while for Black it is 30.3%.\n",
    "   - Draws have an average of 29.9%.\n",
    "4. White's odds (white_odds) range from 0.30 to 9.81, indicating that some openings give a large advantage."
   ]
  },
  {
   "cell_type": "code",
   "execution_count": 5,
   "id": "72263316",
   "metadata": {
    "execution": {
     "iopub.execute_input": "2025-02-10T14:51:49.169493Z",
     "iopub.status.busy": "2025-02-10T14:51:49.169112Z",
     "iopub.status.idle": "2025-02-10T14:51:49.193402Z",
     "shell.execute_reply": "2025-02-10T14:51:49.192093Z"
    },
    "papermill": {
     "duration": 0.033985,
     "end_time": "2025-02-10T14:51:49.195217",
     "exception": false,
     "start_time": "2025-02-10T14:51:49.161232",
     "status": "completed"
    },
    "tags": []
   },
   "outputs": [
    {
     "name": "stdout",
     "output_type": "stream",
     "text": [
      "<class 'pandas.core.frame.DataFrame'>\n",
      "RangeIndex: 1884 entries, 0 to 1883\n",
      "Data columns (total 24 columns):\n",
      " #   Column            Non-Null Count  Dtype  \n",
      "---  ------            --------------  -----  \n",
      " 0   opening_name      1884 non-null   object \n",
      " 1   side              1884 non-null   object \n",
      " 2   num_games         1884 non-null   int64  \n",
      " 3   ECO               1884 non-null   object \n",
      " 4   last_played_date  1884 non-null   object \n",
      " 5   perf_rating       1884 non-null   int64  \n",
      " 6   avg_player        1884 non-null   int64  \n",
      " 7   perc_player_win   1884 non-null   float64\n",
      " 8   perc_draw         1884 non-null   float64\n",
      " 9   pec_opponent_win  1884 non-null   float64\n",
      " 10  moves_list        1884 non-null   object \n",
      " 11  move1w            1884 non-null   object \n",
      " 12  move1b            1869 non-null   object \n",
      " 13  move2w            1814 non-null   object \n",
      " 14  move2b            1744 non-null   object \n",
      " 15  move3w            1628 non-null   object \n",
      " 16  move3b            1501 non-null   object \n",
      " 17  move4w            1340 non-null   object \n",
      " 18  move4b            1186 non-null   object \n",
      " 19  perc_white_win    1884 non-null   float64\n",
      " 20  perc_black_win    1884 non-null   float64\n",
      " 21  white_odds        1884 non-null   float64\n",
      " 22  white_wins        1884 non-null   float64\n",
      " 23  black_wins        1884 non-null   float64\n",
      "dtypes: float64(8), int64(3), object(13)\n",
      "memory usage: 353.4+ KB\n"
     ]
    }
   ],
   "source": [
    "df.info()"
   ]
  },
  {
   "cell_type": "markdown",
   "id": "652764b8",
   "metadata": {
    "papermill": {
     "duration": 0.007148,
     "end_time": "2025-02-10T14:51:49.210061",
     "exception": false,
     "start_time": "2025-02-10T14:51:49.202913",
     "status": "completed"
    },
    "tags": []
   },
   "source": [
    "### Key observations\n",
    "1. 1884 rows and 24 columns → The dataset is manageable in size for analysis.\n",
    "2. Data types:\n",
    "3. Numeric (int64 and float64) → Win percentages, ratings, number of games.\n",
    "   \n",
    "   Text (object) → Opening names (opening_name), ECO code (ECO), moves (move1w, move1b, etc.).\n",
    "   \n",
    "   Missing values in move columns (move1b, move2w, etc.) → The further you go in moves, the more data is missing.\n",
    "   \n",
    "   This is normal because not all openings follow the same depth of moves.\n",
    "   \n",
    "5. The last_played_date column is object (string) → It should be converted to datetime format for time analysis."
   ]
  },
  {
   "cell_type": "markdown",
   "id": "f4de772c",
   "metadata": {
    "papermill": {
     "duration": 0.006912,
     "end_time": "2025-02-10T14:51:49.224486",
     "exception": false,
     "start_time": "2025-02-10T14:51:49.217574",
     "status": "completed"
    },
    "tags": []
   },
   "source": [
    "### Handling missing values"
   ]
  },
  {
   "cell_type": "code",
   "execution_count": 6,
   "id": "6c503509",
   "metadata": {
    "execution": {
     "iopub.execute_input": "2025-02-10T14:51:49.240120Z",
     "iopub.status.busy": "2025-02-10T14:51:49.239730Z",
     "iopub.status.idle": "2025-02-10T14:51:49.249064Z",
     "shell.execute_reply": "2025-02-10T14:51:49.247871Z"
    },
    "papermill": {
     "duration": 0.018869,
     "end_time": "2025-02-10T14:51:49.250628",
     "exception": false,
     "start_time": "2025-02-10T14:51:49.231759",
     "status": "completed"
    },
    "tags": []
   },
   "outputs": [
    {
     "data": {
      "text/plain": [
       "opening_name          0\n",
       "side                  0\n",
       "num_games             0\n",
       "ECO                   0\n",
       "last_played_date      0\n",
       "perf_rating           0\n",
       "avg_player            0\n",
       "perc_player_win       0\n",
       "perc_draw             0\n",
       "pec_opponent_win      0\n",
       "moves_list            0\n",
       "move1w                0\n",
       "move1b               15\n",
       "move2w               70\n",
       "move2b              140\n",
       "move3w              256\n",
       "move3b              383\n",
       "move4w              544\n",
       "move4b              698\n",
       "perc_white_win        0\n",
       "perc_black_win        0\n",
       "white_odds            0\n",
       "white_wins            0\n",
       "black_wins            0\n",
       "dtype: int64"
      ]
     },
     "execution_count": 6,
     "metadata": {},
     "output_type": "execute_result"
    }
   ],
   "source": [
    "df.isnull().sum()"
   ]
  },
  {
   "cell_type": "markdown",
   "id": "428a92bb",
   "metadata": {
    "papermill": {
     "duration": 0.006916,
     "end_time": "2025-02-10T14:51:49.264962",
     "exception": false,
     "start_time": "2025-02-10T14:51:49.258046",
     "status": "completed"
    },
    "tags": []
   },
   "source": [
    "Since the missing values represent moves and these cannot be replaced by averages, most used values in the column or anything else, they are forced to eliminate these."
   ]
  },
  {
   "cell_type": "code",
   "execution_count": 7,
   "id": "9788db36",
   "metadata": {
    "execution": {
     "iopub.execute_input": "2025-02-10T14:51:49.280531Z",
     "iopub.status.busy": "2025-02-10T14:51:49.280158Z",
     "iopub.status.idle": "2025-02-10T14:51:49.298264Z",
     "shell.execute_reply": "2025-02-10T14:51:49.297227Z"
    },
    "papermill": {
     "duration": 0.027899,
     "end_time": "2025-02-10T14:51:49.300017",
     "exception": false,
     "start_time": "2025-02-10T14:51:49.272118",
     "status": "completed"
    },
    "tags": []
   },
   "outputs": [
    {
     "data": {
      "text/html": [
       "<div>\n",
       "<style scoped>\n",
       "    .dataframe tbody tr th:only-of-type {\n",
       "        vertical-align: middle;\n",
       "    }\n",
       "\n",
       "    .dataframe tbody tr th {\n",
       "        vertical-align: top;\n",
       "    }\n",
       "\n",
       "    .dataframe thead th {\n",
       "        text-align: right;\n",
       "    }\n",
       "</style>\n",
       "<table border=\"1\" class=\"dataframe\">\n",
       "  <thead>\n",
       "    <tr style=\"text-align: right;\">\n",
       "      <th></th>\n",
       "      <th>move1w</th>\n",
       "      <th>move1b</th>\n",
       "      <th>move2w</th>\n",
       "      <th>move2b</th>\n",
       "      <th>move3w</th>\n",
       "      <th>move3b</th>\n",
       "      <th>move4w</th>\n",
       "      <th>move4b</th>\n",
       "    </tr>\n",
       "  </thead>\n",
       "  <tbody>\n",
       "    <tr>\n",
       "      <th>0</th>\n",
       "      <td>e4</td>\n",
       "      <td>Nf6</td>\n",
       "      <td>e5</td>\n",
       "      <td>Nd5</td>\n",
       "      <td>d4</td>\n",
       "      <td>d6</td>\n",
       "      <td>Bc4</td>\n",
       "      <td>NaN</td>\n",
       "    </tr>\n",
       "    <tr>\n",
       "      <th>1</th>\n",
       "      <td>e4</td>\n",
       "      <td>Nf6</td>\n",
       "      <td>e5</td>\n",
       "      <td>Ng8</td>\n",
       "      <td>NaN</td>\n",
       "      <td>NaN</td>\n",
       "      <td>NaN</td>\n",
       "      <td>NaN</td>\n",
       "    </tr>\n",
       "    <tr>\n",
       "      <th>7</th>\n",
       "      <td>e4</td>\n",
       "      <td>Nf6</td>\n",
       "      <td>NaN</td>\n",
       "      <td>NaN</td>\n",
       "      <td>NaN</td>\n",
       "      <td>NaN</td>\n",
       "      <td>NaN</td>\n",
       "      <td>NaN</td>\n",
       "    </tr>\n",
       "    <tr>\n",
       "      <th>9</th>\n",
       "      <td>e4</td>\n",
       "      <td>Nf6</td>\n",
       "      <td>d3</td>\n",
       "      <td>NaN</td>\n",
       "      <td>NaN</td>\n",
       "      <td>NaN</td>\n",
       "      <td>NaN</td>\n",
       "      <td>NaN</td>\n",
       "    </tr>\n",
       "    <tr>\n",
       "      <th>10</th>\n",
       "      <td>e4</td>\n",
       "      <td>Nf6</td>\n",
       "      <td>e5</td>\n",
       "      <td>Nd5</td>\n",
       "      <td>d4</td>\n",
       "      <td>d6</td>\n",
       "      <td>Nf3</td>\n",
       "      <td>NaN</td>\n",
       "    </tr>\n",
       "    <tr>\n",
       "      <th>...</th>\n",
       "      <td>...</td>\n",
       "      <td>...</td>\n",
       "      <td>...</td>\n",
       "      <td>...</td>\n",
       "      <td>...</td>\n",
       "      <td>...</td>\n",
       "      <td>...</td>\n",
       "      <td>...</td>\n",
       "    </tr>\n",
       "    <tr>\n",
       "      <th>1878</th>\n",
       "      <td>Nf3</td>\n",
       "      <td>d5</td>\n",
       "      <td>b4</td>\n",
       "      <td>NaN</td>\n",
       "      <td>NaN</td>\n",
       "      <td>NaN</td>\n",
       "      <td>NaN</td>\n",
       "      <td>NaN</td>\n",
       "    </tr>\n",
       "    <tr>\n",
       "      <th>1879</th>\n",
       "      <td>Nf3</td>\n",
       "      <td>c5</td>\n",
       "      <td>NaN</td>\n",
       "      <td>NaN</td>\n",
       "      <td>NaN</td>\n",
       "      <td>NaN</td>\n",
       "      <td>NaN</td>\n",
       "      <td>NaN</td>\n",
       "    </tr>\n",
       "    <tr>\n",
       "      <th>1880</th>\n",
       "      <td>Nf3</td>\n",
       "      <td>c6</td>\n",
       "      <td>NaN</td>\n",
       "      <td>NaN</td>\n",
       "      <td>NaN</td>\n",
       "      <td>NaN</td>\n",
       "      <td>NaN</td>\n",
       "      <td>NaN</td>\n",
       "    </tr>\n",
       "    <tr>\n",
       "      <th>1881</th>\n",
       "      <td>Nf3</td>\n",
       "      <td>Nf6</td>\n",
       "      <td>NaN</td>\n",
       "      <td>NaN</td>\n",
       "      <td>NaN</td>\n",
       "      <td>NaN</td>\n",
       "      <td>NaN</td>\n",
       "      <td>NaN</td>\n",
       "    </tr>\n",
       "    <tr>\n",
       "      <th>1882</th>\n",
       "      <td>Nf3</td>\n",
       "      <td>d5</td>\n",
       "      <td>e4</td>\n",
       "      <td>NaN</td>\n",
       "      <td>NaN</td>\n",
       "      <td>NaN</td>\n",
       "      <td>NaN</td>\n",
       "      <td>NaN</td>\n",
       "    </tr>\n",
       "  </tbody>\n",
       "</table>\n",
       "<p>698 rows × 8 columns</p>\n",
       "</div>"
      ],
      "text/plain": [
       "     move1w move1b move2w move2b move3w move3b move4w move4b\n",
       "0        e4    Nf6     e5    Nd5     d4     d6    Bc4    NaN\n",
       "1        e4    Nf6     e5    Ng8    NaN    NaN    NaN    NaN\n",
       "7        e4    Nf6    NaN    NaN    NaN    NaN    NaN    NaN\n",
       "9        e4    Nf6     d3    NaN    NaN    NaN    NaN    NaN\n",
       "10       e4    Nf6     e5    Nd5     d4     d6    Nf3    NaN\n",
       "...     ...    ...    ...    ...    ...    ...    ...    ...\n",
       "1878    Nf3     d5     b4    NaN    NaN    NaN    NaN    NaN\n",
       "1879    Nf3     c5    NaN    NaN    NaN    NaN    NaN    NaN\n",
       "1880    Nf3     c6    NaN    NaN    NaN    NaN    NaN    NaN\n",
       "1881    Nf3    Nf6    NaN    NaN    NaN    NaN    NaN    NaN\n",
       "1882    Nf3     d5     e4    NaN    NaN    NaN    NaN    NaN\n",
       "\n",
       "[698 rows x 8 columns]"
      ]
     },
     "execution_count": 7,
     "metadata": {},
     "output_type": "execute_result"
    }
   ],
   "source": [
    "# Select only columns related to missing moves\n",
    "move_columns = ['move1w', 'move1b', 'move2w', 'move2b', 'move3w', 'move3b', 'move4w', 'move4b']\n",
    "\n",
    "# Filter rows that contain missing values ​​in move columns\n",
    "missing_moves = df[move_columns].isnull().any(axis=1)\n",
    "\n",
    "# Display only rows with missing values ​​in move columns\n",
    "df_with_missing_moves = df[missing_moves]\n",
    "\n",
    "# Display result\n",
    "df_with_missing_moves[move_columns]\n"
   ]
  },
  {
   "cell_type": "code",
   "execution_count": 8,
   "id": "f6323568",
   "metadata": {
    "execution": {
     "iopub.execute_input": "2025-02-10T14:51:49.316570Z",
     "iopub.status.busy": "2025-02-10T14:51:49.316228Z",
     "iopub.status.idle": "2025-02-10T14:51:49.328372Z",
     "shell.execute_reply": "2025-02-10T14:51:49.327304Z"
    },
    "papermill": {
     "duration": 0.022128,
     "end_time": "2025-02-10T14:51:49.330058",
     "exception": false,
     "start_time": "2025-02-10T14:51:49.307930",
     "status": "completed"
    },
    "tags": []
   },
   "outputs": [
    {
     "data": {
      "text/plain": [
       "opening_name        0\n",
       "side                0\n",
       "num_games           0\n",
       "ECO                 0\n",
       "last_played_date    0\n",
       "perf_rating         0\n",
       "avg_player          0\n",
       "perc_player_win     0\n",
       "perc_draw           0\n",
       "pec_opponent_win    0\n",
       "moves_list          0\n",
       "move1w              0\n",
       "move1b              0\n",
       "move2w              0\n",
       "move2b              0\n",
       "move3w              0\n",
       "move3b              0\n",
       "move4w              0\n",
       "move4b              0\n",
       "perc_white_win      0\n",
       "perc_black_win      0\n",
       "white_odds          0\n",
       "white_wins          0\n",
       "black_wins          0\n",
       "dtype: int64"
      ]
     },
     "execution_count": 8,
     "metadata": {},
     "output_type": "execute_result"
    }
   ],
   "source": [
    "# Drop rows that have NaN values in any of the specified columns\n",
    "df = df.dropna(subset=move_columns)\n",
    "\n",
    "df.isnull().sum()"
   ]
  },
  {
   "cell_type": "markdown",
   "id": "bffe8d93",
   "metadata": {
    "papermill": {
     "duration": 0.007256,
     "end_time": "2025-02-10T14:51:49.345091",
     "exception": false,
     "start_time": "2025-02-10T14:51:49.337835",
     "status": "completed"
    },
    "tags": []
   },
   "source": [
    "### Data Visualization"
   ]
  },
  {
   "cell_type": "code",
   "execution_count": 9,
   "id": "a0bed310",
   "metadata": {
    "execution": {
     "iopub.execute_input": "2025-02-10T14:51:49.361854Z",
     "iopub.status.busy": "2025-02-10T14:51:49.361343Z",
     "iopub.status.idle": "2025-02-10T14:51:50.903951Z",
     "shell.execute_reply": "2025-02-10T14:51:50.902674Z"
    },
    "papermill": {
     "duration": 1.553955,
     "end_time": "2025-02-10T14:51:50.906513",
     "exception": false,
     "start_time": "2025-02-10T14:51:49.352558",
     "status": "completed"
    },
    "tags": []
   },
   "outputs": [
    {
     "name": "stderr",
     "output_type": "stream",
     "text": [
      "/usr/local/lib/python3.10/dist-packages/seaborn/_oldcore.py:1119: FutureWarning: use_inf_as_na option is deprecated and will be removed in a future version. Convert inf values to NaN before operating instead.\n",
      "  with pd.option_context('mode.use_inf_as_na', True):\n",
      "/usr/local/lib/python3.10/dist-packages/seaborn/_oldcore.py:1119: FutureWarning: use_inf_as_na option is deprecated and will be removed in a future version. Convert inf values to NaN before operating instead.\n",
      "  with pd.option_context('mode.use_inf_as_na', True):\n"
     ]
    },
    {
     "data": {
      "image/png": "[encoded data removed]",
      "text/plain": [
       "<Figure size 1200x800 with 5 Axes>"
      ]
     },
     "metadata": {},
     "output_type": "display_data"
    }
   ],
   "source": [
    "# Graphics Settings\n",
    "sns.set(style=\"whitegrid\")\n",
    "plt.figure(figsize=(12, 8))\n",
    "\n",
    "# 1. Player Rating Distribution\n",
    "plt.subplot(2, 2, 1)\n",
    "sns.histplot(df['perf_rating'], kde=True, color='blue')\n",
    "plt.title('Player Rating Distribution')\n",
    "\n",
    "# 2. White Win Percentage\n",
    "plt.subplot(2, 2, 2)\n",
    "sns.histplot(df['perc_white_win'], kde=True, color='green')\n",
    "plt.title('White Win Percentage Distribution')\n",
    "\n",
    "# 3. Correlation between 'perf_rating', 'perc_white_win', 'perc_black_win'\n",
    "plt.subplot(2, 2, 3)\n",
    "correlation_matrix = df[['perf_rating', 'perc_white_win', 'perc_black_win']].corr()\n",
    "sns.heatmap(correlation_matrix, annot=True, cmap='coolwarm', cbar=True)\n",
    "plt.title('Correlations Between Variables Heatmap')\n",
    "\n",
    "# 4. Proportion of Wins for White vs. Black\n",
    "plt.subplot(2, 2, 4)\n",
    "sns.barplot(x='side', y='perc_player_win', data=df, estimator='mean', palette='Set2')\n",
    "plt.title('Proportion of Wins for White vs. Black')\n",
    "\n",
    "plt.tight_layout()\n",
    "plt.show()"
   ]
  },
  {
   "cell_type": "markdown",
   "id": "25f27ff9",
   "metadata": {
    "papermill": {
     "duration": 0.010546,
     "end_time": "2025-02-10T14:51:50.928101",
     "exception": false,
     "start_time": "2025-02-10T14:51:50.917555",
     "status": "completed"
    },
    "tags": []
   },
   "source": [
    "The graphs do not tell us anything new, but here are some observations.\n",
    "\n",
    "1. **Player Rating Distribution (Top Left Graph):**\n",
    "     - Most scores are concentrated around 2200-2400, with a distribution that seems to approximate normal.\n",
    "2. **White Win Percentage Distribution (Top Right Graph):**\n",
    "     - White win percentage is mostly distributed between 30% and 50%, with an average of around 40%.\n",
    "3. **Variable Correlation Heatmap (Bottom Left Graph):**\n",
    "     - There is a moderate negative correlation between player ratings and win percentages (for both whites and blacks).\n",
    "     - White and black win percentages are strongly and negatively correlated (-0.41).\n",
    "4. **Win Ratio (White vs. Black) (Bottom Right Chart):**\n",
    "     - Whites win more often on average than blacks, with a noticeable difference in the bar.\n",
    "     - This confirms the historical advantage of white moving first."
   ]
  },
  {
   "cell_type": "code",
   "execution_count": 10,
   "id": "b5767fd6",
   "metadata": {
    "execution": {
     "iopub.execute_input": "2025-02-10T14:51:50.949887Z",
     "iopub.status.busy": "2025-02-10T14:51:50.949467Z",
     "iopub.status.idle": "2025-02-10T14:51:51.405649Z",
     "shell.execute_reply": "2025-02-10T14:51:51.404613Z"
    },
    "papermill": {
     "duration": 0.471174,
     "end_time": "2025-02-10T14:51:51.409590",
     "exception": false,
     "start_time": "2025-02-10T14:51:50.938416",
     "status": "completed"
    },
    "tags": []
   },
   "outputs": [
    {
     "data": {
      "image/png": "[encoded data removed]",
      "text/plain": [
       "<Figure size 1200x600 with 1 Axes>"
      ]
     },
     "metadata": {},
     "output_type": "display_data"
    }
   ],
   "source": [
    "# Top 10 Most Popular Openings\n",
    "top_openings = df['opening_name'].value_counts().head(10)\n",
    "\n",
    "plt.figure(figsize=(12, 6))\n",
    "top_openings.plot(kind='bar', color='purple')\n",
    "\n",
    "plt.title('Top 10 Most Popular Openings')\n",
    "plt.xlabel('Opening')\n",
    "plt.ylabel('Number of Games')\n",
    "plt.xticks(rotation=45, ha='right') \n",
    "\n",
    "plt.tight_layout() \n",
    "plt.show()"
   ]
  },
  {
   "cell_type": "markdown",
   "id": "6d5e0381",
   "metadata": {
    "papermill": {
     "duration": 0.014151,
     "end_time": "2025-02-10T14:51:51.438009",
     "exception": false,
     "start_time": "2025-02-10T14:51:51.423858",
     "status": "completed"
    },
    "tags": []
   },
   "source": [
    "The graph represents the 10 most used openings by players in this dataset."
   ]
  },
  {
   "cell_type": "code",
   "execution_count": 11,
   "id": "46d75c16",
   "metadata": {
    "execution": {
     "iopub.execute_input": "2025-02-10T14:51:51.468103Z",
     "iopub.status.busy": "2025-02-10T14:51:51.467708Z",
     "iopub.status.idle": "2025-02-10T14:51:51.473615Z",
     "shell.execute_reply": "2025-02-10T14:51:51.472706Z"
    },
    "papermill": {
     "duration": 0.022773,
     "end_time": "2025-02-10T14:51:51.475286",
     "exception": false,
     "start_time": "2025-02-10T14:51:51.452513",
     "status": "completed"
    },
    "tags": []
   },
   "outputs": [
    {
     "data": {
      "text/plain": [
       "Index(['opening_name', 'side', 'num_games', 'ECO', 'last_played_date',\n",
       "       'perf_rating', 'avg_player', 'perc_player_win', 'perc_draw',\n",
       "       'pec_opponent_win', 'moves_list', 'move1w', 'move1b', 'move2w',\n",
       "       'move2b', 'move3w', 'move3b', 'move4w', 'move4b', 'perc_white_win',\n",
       "       'perc_black_win', 'white_odds', 'white_wins', 'black_wins'],\n",
       "      dtype='object')"
      ]
     },
     "execution_count": 11,
     "metadata": {},
     "output_type": "execute_result"
    }
   ],
   "source": [
    "df.columns"
   ]
  },
  {
   "cell_type": "markdown",
   "id": "aad11ee9",
   "metadata": {
    "papermill": {
     "duration": 0.013708,
     "end_time": "2025-02-10T14:51:51.502734",
     "exception": false,
     "start_time": "2025-02-10T14:51:51.489026",
     "status": "completed"
    },
    "tags": []
   },
   "source": [
    "Let's create a copy of the DataFrame with only the columns related to the opening of the game.\n",
    "\n",
    "Reason for .copy(): Avoids the SettingWithCopyWarning by modifying an independent copy of the DataFrame."
   ]
  },
  {
   "cell_type": "code",
   "execution_count": 12,
   "id": "51a201af",
   "metadata": {
    "execution": {
     "iopub.execute_input": "2025-02-10T14:51:51.531863Z",
     "iopub.status.busy": "2025-02-10T14:51:51.531446Z",
     "iopub.status.idle": "2025-02-10T14:51:51.546999Z",
     "shell.execute_reply": "2025-02-10T14:51:51.545930Z"
    },
    "papermill": {
     "duration": 0.031948,
     "end_time": "2025-02-10T14:51:51.548545",
     "exception": false,
     "start_time": "2025-02-10T14:51:51.516597",
     "status": "completed"
    },
    "tags": []
   },
   "outputs": [
    {
     "data": {
      "text/html": [
       "<div>\n",
       "<style scoped>\n",
       "    .dataframe tbody tr th:only-of-type {\n",
       "        vertical-align: middle;\n",
       "    }\n",
       "\n",
       "    .dataframe tbody tr th {\n",
       "        vertical-align: top;\n",
       "    }\n",
       "\n",
       "    .dataframe thead th {\n",
       "        text-align: right;\n",
       "    }\n",
       "</style>\n",
       "<table border=\"1\" class=\"dataframe\">\n",
       "  <thead>\n",
       "    <tr style=\"text-align: right;\">\n",
       "      <th></th>\n",
       "      <th>opening_name</th>\n",
       "      <th>move1w</th>\n",
       "      <th>move1b</th>\n",
       "      <th>move2w</th>\n",
       "      <th>move2b</th>\n",
       "      <th>move3w</th>\n",
       "      <th>move3b</th>\n",
       "      <th>move4w</th>\n",
       "      <th>move4b</th>\n",
       "    </tr>\n",
       "  </thead>\n",
       "  <tbody>\n",
       "    <tr>\n",
       "      <th>2</th>\n",
       "      <td>Alekhine Defense, Exchange Variation</td>\n",
       "      <td>e4</td>\n",
       "      <td>Nf6</td>\n",
       "      <td>e5</td>\n",
       "      <td>Nd5</td>\n",
       "      <td>d4</td>\n",
       "      <td>d6</td>\n",
       "      <td>c4</td>\n",
       "      <td>Nb6</td>\n",
       "    </tr>\n",
       "    <tr>\n",
       "      <th>3</th>\n",
       "      <td>Alekhine Defense, Four Pawns Attack</td>\n",
       "      <td>e4</td>\n",
       "      <td>Nf6</td>\n",
       "      <td>e5</td>\n",
       "      <td>Nd5</td>\n",
       "      <td>d4</td>\n",
       "      <td>d6</td>\n",
       "      <td>c4</td>\n",
       "      <td>Nb6</td>\n",
       "    </tr>\n",
       "    <tr>\n",
       "      <th>4</th>\n",
       "      <td>Alekhine Defense, Four Pawns Attack, Fianchett...</td>\n",
       "      <td>e4</td>\n",
       "      <td>Nf6</td>\n",
       "      <td>e5</td>\n",
       "      <td>Nd5</td>\n",
       "      <td>d4</td>\n",
       "      <td>d6</td>\n",
       "      <td>c4</td>\n",
       "      <td>Nb6</td>\n",
       "    </tr>\n",
       "    <tr>\n",
       "      <th>5</th>\n",
       "      <td>Alekhine Defense, Four Pawns Attack, Main Line</td>\n",
       "      <td>e4</td>\n",
       "      <td>Nf6</td>\n",
       "      <td>e5</td>\n",
       "      <td>Nd5</td>\n",
       "      <td>d4</td>\n",
       "      <td>d6</td>\n",
       "      <td>c4</td>\n",
       "      <td>Nb6</td>\n",
       "    </tr>\n",
       "    <tr>\n",
       "      <th>6</th>\n",
       "      <td>Alekhine Defense, Four Pawns Attack, Trifunovi...</td>\n",
       "      <td>e4</td>\n",
       "      <td>Nf6</td>\n",
       "      <td>e5</td>\n",
       "      <td>Nd5</td>\n",
       "      <td>d4</td>\n",
       "      <td>d6</td>\n",
       "      <td>c4</td>\n",
       "      <td>Nb6</td>\n",
       "    </tr>\n",
       "  </tbody>\n",
       "</table>\n",
       "</div>"
      ],
      "text/plain": [
       "                                        opening_name move1w move1b move2w  \\\n",
       "2               Alekhine Defense, Exchange Variation     e4    Nf6     e5   \n",
       "3                Alekhine Defense, Four Pawns Attack     e4    Nf6     e5   \n",
       "4  Alekhine Defense, Four Pawns Attack, Fianchett...     e4    Nf6     e5   \n",
       "5     Alekhine Defense, Four Pawns Attack, Main Line     e4    Nf6     e5   \n",
       "6  Alekhine Defense, Four Pawns Attack, Trifunovi...     e4    Nf6     e5   \n",
       "\n",
       "  move2b move3w move3b move4w move4b  \n",
       "2    Nd5     d4     d6     c4    Nb6  \n",
       "3    Nd5     d4     d6     c4    Nb6  \n",
       "4    Nd5     d4     d6     c4    Nb6  \n",
       "5    Nd5     d4     d6     c4    Nb6  \n",
       "6    Nd5     d4     d6     c4    Nb6  "
      ]
     },
     "execution_count": 12,
     "metadata": {},
     "output_type": "execute_result"
    }
   ],
   "source": [
    "# Extract only columns relevant to the opening\n",
    "openings_df = df[['opening_name', 'move1w', 'move1b', 'move2w', 'move2b', 'move3w', 'move3b', 'move4w', 'move4b']].copy()\n",
    "\n",
    "# Show first lines to verify\n",
    "openings_df.head()"
   ]
  },
  {
   "cell_type": "markdown",
   "id": "a4bad5f8",
   "metadata": {
    "papermill": {
     "duration": 0.014115,
     "end_time": "2025-02-10T14:51:51.577160",
     "exception": false,
     "start_time": "2025-02-10T14:51:51.563045",
     "status": "completed"
    },
    "tags": []
   },
   "source": [
    "### Preprocessing Moves"
   ]
  },
  {
   "cell_type": "markdown",
   "id": "16589c35",
   "metadata": {
    "papermill": {
     "duration": 0.013738,
     "end_time": "2025-02-10T14:51:51.604877",
     "exception": false,
     "start_time": "2025-02-10T14:51:51.591139",
     "status": "completed"
    },
    "tags": []
   },
   "source": [
    "we will use 'enumerate(..., start=1)' to assign each move a numeric value starting from 1."
   ]
  },
  {
   "cell_type": "code",
   "execution_count": 13,
   "id": "b1dc0204",
   "metadata": {
    "execution": {
     "iopub.execute_input": "2025-02-10T14:51:51.634757Z",
     "iopub.status.busy": "2025-02-10T14:51:51.634388Z",
     "iopub.status.idle": "2025-02-10T14:51:51.640751Z",
     "shell.execute_reply": "2025-02-10T14:51:51.639631Z"
    },
    "papermill": {
     "duration": 0.02343,
     "end_time": "2025-02-10T14:51:51.642554",
     "exception": false,
     "start_time": "2025-02-10T14:51:51.619124",
     "status": "completed"
    },
    "tags": []
   },
   "outputs": [],
   "source": [
    "# Create a move mapping dictionary\n",
    "unique_moves = set(openings_df.drop(columns=['opening_name']).values.flatten())\n",
    "move_dict = {move: idx for idx, move in enumerate(unique_moves, start=1)}"
   ]
  },
  {
   "cell_type": "markdown",
   "id": "80b8839a",
   "metadata": {
    "papermill": {
     "duration": 0.013694,
     "end_time": "2025-02-10T14:51:51.670339",
     "exception": false,
     "start_time": "2025-02-10T14:51:51.656645",
     "status": "completed"
    },
    "tags": []
   },
   "source": [
    "We map now, moves because machine learning models work better with numerical data than with text strings.\n",
    "\n",
    "Chess moves (e4, d4, Nf3, etc.) are strings.\n",
    "Machine learning algorithms require numerical inputs to calculate distances, correlations, and patterns in the data.\n",
    "We transform moves into an interpretable format"
   ]
  },
  {
   "cell_type": "code",
   "execution_count": 14,
   "id": "f9c4215f",
   "metadata": {
    "execution": {
     "iopub.execute_input": "2025-02-10T14:51:51.701299Z",
     "iopub.status.busy": "2025-02-10T14:51:51.700898Z",
     "iopub.status.idle": "2025-02-10T14:51:51.723571Z",
     "shell.execute_reply": "2025-02-10T14:51:51.722514Z"
    },
    "papermill": {
     "duration": 0.039831,
     "end_time": "2025-02-10T14:51:51.725343",
     "exception": false,
     "start_time": "2025-02-10T14:51:51.685512",
     "status": "completed"
    },
    "tags": []
   },
   "outputs": [
    {
     "data": {
      "text/html": [
       "<div>\n",
       "<style scoped>\n",
       "    .dataframe tbody tr th:only-of-type {\n",
       "        vertical-align: middle;\n",
       "    }\n",
       "\n",
       "    .dataframe tbody tr th {\n",
       "        vertical-align: top;\n",
       "    }\n",
       "\n",
       "    .dataframe thead th {\n",
       "        text-align: right;\n",
       "    }\n",
       "</style>\n",
       "<table border=\"1\" class=\"dataframe\">\n",
       "  <thead>\n",
       "    <tr style=\"text-align: right;\">\n",
       "      <th></th>\n",
       "      <th>opening_name</th>\n",
       "      <th>move1w</th>\n",
       "      <th>move1b</th>\n",
       "      <th>move2w</th>\n",
       "      <th>move2b</th>\n",
       "      <th>move3w</th>\n",
       "      <th>move3b</th>\n",
       "      <th>move4w</th>\n",
       "      <th>move4b</th>\n",
       "    </tr>\n",
       "  </thead>\n",
       "  <tbody>\n",
       "    <tr>\n",
       "      <th>2</th>\n",
       "      <td>Alekhine Defense, Exchange Variation</td>\n",
       "      <td>43</td>\n",
       "      <td>95</td>\n",
       "      <td>69</td>\n",
       "      <td>97</td>\n",
       "      <td>107</td>\n",
       "      <td>110</td>\n",
       "      <td>3</td>\n",
       "      <td>44</td>\n",
       "    </tr>\n",
       "    <tr>\n",
       "      <th>3</th>\n",
       "      <td>Alekhine Defense, Four Pawns Attack</td>\n",
       "      <td>43</td>\n",
       "      <td>95</td>\n",
       "      <td>69</td>\n",
       "      <td>97</td>\n",
       "      <td>107</td>\n",
       "      <td>110</td>\n",
       "      <td>3</td>\n",
       "      <td>44</td>\n",
       "    </tr>\n",
       "    <tr>\n",
       "      <th>4</th>\n",
       "      <td>Alekhine Defense, Four Pawns Attack, Fianchett...</td>\n",
       "      <td>43</td>\n",
       "      <td>95</td>\n",
       "      <td>69</td>\n",
       "      <td>97</td>\n",
       "      <td>107</td>\n",
       "      <td>110</td>\n",
       "      <td>3</td>\n",
       "      <td>44</td>\n",
       "    </tr>\n",
       "    <tr>\n",
       "      <th>5</th>\n",
       "      <td>Alekhine Defense, Four Pawns Attack, Main Line</td>\n",
       "      <td>43</td>\n",
       "      <td>95</td>\n",
       "      <td>69</td>\n",
       "      <td>97</td>\n",
       "      <td>107</td>\n",
       "      <td>110</td>\n",
       "      <td>3</td>\n",
       "      <td>44</td>\n",
       "    </tr>\n",
       "    <tr>\n",
       "      <th>6</th>\n",
       "      <td>Alekhine Defense, Four Pawns Attack, Trifunovi...</td>\n",
       "      <td>43</td>\n",
       "      <td>95</td>\n",
       "      <td>69</td>\n",
       "      <td>97</td>\n",
       "      <td>107</td>\n",
       "      <td>110</td>\n",
       "      <td>3</td>\n",
       "      <td>44</td>\n",
       "    </tr>\n",
       "  </tbody>\n",
       "</table>\n",
       "</div>"
      ],
      "text/plain": [
       "                                        opening_name  move1w  move1b  move2w  \\\n",
       "2               Alekhine Defense, Exchange Variation      43      95      69   \n",
       "3                Alekhine Defense, Four Pawns Attack      43      95      69   \n",
       "4  Alekhine Defense, Four Pawns Attack, Fianchett...      43      95      69   \n",
       "5     Alekhine Defense, Four Pawns Attack, Main Line      43      95      69   \n",
       "6  Alekhine Defense, Four Pawns Attack, Trifunovi...      43      95      69   \n",
       "\n",
       "   move2b  move3w  move3b  move4w  move4b  \n",
       "2      97     107     110       3      44  \n",
       "3      97     107     110       3      44  \n",
       "4      97     107     110       3      44  \n",
       "5      97     107     110       3      44  \n",
       "6      97     107     110       3      44  "
      ]
     },
     "execution_count": 14,
     "metadata": {},
     "output_type": "execute_result"
    }
   ],
   "source": [
    "# Mapping moves to numeric values\n",
    "for col in openings_df.columns:\n",
    "    if col != 'opening_name':\n",
    "       openings_df[col] = openings_df[col].map(move_dict)\n",
    "\n",
    "# Show first lines for verification\n",
    "openings_df.head()"
   ]
  },
  {
   "cell_type": "markdown",
   "id": "94467613",
   "metadata": {
    "papermill": {
     "duration": 0.013754,
     "end_time": "2025-02-10T14:51:51.753375",
     "exception": false,
     "start_time": "2025-02-10T14:51:51.739621",
     "status": "completed"
    },
    "tags": []
   },
   "source": [
    "Now each move is represented by a unique number, useful for training a Machine Learning model!"
   ]
  },
  {
   "cell_type": "markdown",
   "id": "784465b1",
   "metadata": {
    "papermill": {
     "duration": 0.014466,
     "end_time": "2025-02-10T14:51:51.781699",
     "exception": false,
     "start_time": "2025-02-10T14:51:51.767233",
     "status": "completed"
    },
    "tags": []
   },
   "source": [
    "### Data Breakdown"
   ]
  },
  {
   "cell_type": "code",
   "execution_count": 15,
   "id": "f3e05037",
   "metadata": {
    "execution": {
     "iopub.execute_input": "2025-02-10T14:51:51.811185Z",
     "iopub.status.busy": "2025-02-10T14:51:51.810788Z",
     "iopub.status.idle": "2025-02-10T14:51:52.210569Z",
     "shell.execute_reply": "2025-02-10T14:51:52.209106Z"
    },
    "papermill": {
     "duration": 0.416763,
     "end_time": "2025-02-10T14:51:52.212508",
     "exception": false,
     "start_time": "2025-02-10T14:51:51.795745",
     "status": "completed"
    },
    "tags": []
   },
   "outputs": [
    {
     "name": "stdout",
     "output_type": "stream",
     "text": [
      "Training Set Size: (948, 4), (948, 4)\n",
      "Test Set Size: (238, 4), (238, 4)\n"
     ]
    }
   ],
   "source": [
    "from sklearn.model_selection import train_test_split\n",
    "\n",
    "# Select features (White's moves) and targets (Black's moves)\n",
    "X = openings_df[['move1w', 'move2w', 'move3w', 'move4w']] # White's moves\n",
    "y = openings_df[['move1b', 'move2b', 'move3b', 'move4b']] # Black's responses\n",
    "\n",
    "# Split into training (80%) and test set (20%)\n",
    "X_train, X_test, y_train, y_test = train_test_split(X, y, test_size=0.2, random_state=42)\n",
    "\n",
    "# Print dataset sizes\n",
    "print(f\"Training Set Size: {X_train.shape}, {y_train.shape}\")\n",
    "print(f\"Test Set Size: {X_test.shape}, {y_test.shape}\")"
   ]
  },
  {
   "cell_type": "markdown",
   "id": "7d966720",
   "metadata": {
    "papermill": {
     "duration": 0.014146,
     "end_time": "2025-02-10T14:51:52.240873",
     "exception": false,
     "start_time": "2025-02-10T14:51:52.226727",
     "status": "completed"
    },
    "tags": []
   },
   "source": [
    "### Machine Learning\n",
    "## Random Forest\n",
    "We chose Random Forest because it is a robust and easily interpretable model that handles datasets with both numeric and categorical variables well. It also avoids overfitting thanks to its multiple decision tree structure and offers a feature importance assessment, which is useful for understanding the influence of each White move. Finally, Random Forest is relatively fast to train, which makes it ideal for applications where speed and generalization are crucial."
   ]
  },
  {
   "cell_type": "code",
   "execution_count": 16,
   "id": "960c317f",
   "metadata": {
    "execution": {
     "iopub.execute_input": "2025-02-10T14:51:52.271666Z",
     "iopub.status.busy": "2025-02-10T14:51:52.271297Z",
     "iopub.status.idle": "2025-02-10T14:51:53.108668Z",
     "shell.execute_reply": "2025-02-10T14:51:53.107398Z"
    },
    "papermill": {
     "duration": 0.855093,
     "end_time": "2025-02-10T14:51:53.110366",
     "exception": false,
     "start_time": "2025-02-10T14:51:52.255273",
     "status": "completed"
    },
    "tags": []
   },
   "outputs": [
    {
     "name": "stdout",
     "output_type": "stream",
     "text": [
      "Precision for move1b:\n",
      "0.7299774718685367\n",
      "\n",
      "\n",
      "Precision for move2b:\n",
      "0.7256559874613835\n",
      "\n",
      "\n",
      "Precision for move3b:\n",
      "0.6319255907491201\n",
      "\n",
      "\n",
      "Precision for move4b:\n",
      "0.30948566251634246\n",
      "\n",
      "\n"
     ]
    },
    {
     "name": "stderr",
     "output_type": "stream",
     "text": [
      "/usr/local/lib/python3.10/dist-packages/sklearn/metrics/_classification.py:1344: UndefinedMetricWarning: Precision is ill-defined and being set to 0.0 in labels with no predicted samples. Use `zero_division` parameter to control this behavior.\n",
      "  _warn_prf(average, modifier, msg_start, len(result))\n",
      "/usr/local/lib/python3.10/dist-packages/sklearn/metrics/_classification.py:1344: UndefinedMetricWarning: Precision is ill-defined and being set to 0.0 in labels with no predicted samples. Use `zero_division` parameter to control this behavior.\n",
      "  _warn_prf(average, modifier, msg_start, len(result))\n",
      "/usr/local/lib/python3.10/dist-packages/sklearn/metrics/_classification.py:1344: UndefinedMetricWarning: Precision is ill-defined and being set to 0.0 in labels with no predicted samples. Use `zero_division` parameter to control this behavior.\n",
      "  _warn_prf(average, modifier, msg_start, len(result))\n",
      "/usr/local/lib/python3.10/dist-packages/sklearn/metrics/_classification.py:1344: UndefinedMetricWarning: Precision is ill-defined and being set to 0.0 in labels with no predicted samples. Use `zero_division` parameter to control this behavior.\n",
      "  _warn_prf(average, modifier, msg_start, len(result))\n"
     ]
    }
   ],
   "source": [
    "from sklearn.ensemble import RandomForestClassifier\n",
    "from sklearn.metrics import precision_score, classification_report\n",
    "\n",
    "# Create the model\n",
    "rf_model = RandomForestClassifier(n_estimators=100, random_state=42)\n",
    "\n",
    "# Train the model\n",
    "rf_model.fit(X_train, y_train)\n",
    "\n",
    "# Predict on test labels\n",
    "y_pred = rf_model.predict(X_test)\n",
    "\n",
    "# Calculate precision for each column separately\n",
    "for i in range(y_test.shape[1]): # For each target (move1b, move2b, ...)\n",
    "    print(f\"Precision for {y_test.columns[i]}:\")\n",
    "    print(precision_score(y_test.iloc[:, i], y_pred[:, i], average='macro')) # Use 'macro' to average the precisions\n",
    "    print(\"\\n\")"
   ]
  },
  {
   "cell_type": "markdown",
   "id": "f2a39ee2",
   "metadata": {
    "papermill": {
     "duration": 0.014328,
     "end_time": "2025-02-10T14:51:53.138992",
     "exception": false,
     "start_time": "2025-02-10T14:51:53.124664",
     "status": "completed"
    },
    "tags": []
   },
   "source": [
    "The output indicates that the model is producing low accuracies for some targets, especially move4b, and there are warnings about classes for which the model has not made any predictions.\n",
    "\n",
    "### Analysis of the results:\n",
    "1. **Precision for moves 1b, 2b and 3b is quite decent**:\n",
    "   - move1b: 0.73\n",
    "   - move2b: 0.70\n",
    "   - move3b: 0.63\n",
    "\n",
    "These values suggest that the model is doing a fairly good job of predicting the responses for black's first three moves.\n",
    "\n",
    "2. **Precision for move4b** is very low (0.31). This indicates that the prediction for black's fourth move is quite inaccurate.\n",
    "3. **Warning**: The warning we see is due to the fact that some labels (move classes) have not been predicted by the model. This can happen when your    model only predicts some of the available classes and ignores others."
   ]
  },
  {
   "cell_type": "markdown",
   "id": "3305bc42",
   "metadata": {
    "papermill": {
     "duration": 0.014628,
     "end_time": "2025-02-10T14:51:53.167974",
     "exception": false,
     "start_time": "2025-02-10T14:51:53.153346",
     "status": "completed"
    },
    "tags": []
   },
   "source": [
    "## Conclusions:\n",
    "\n",
    "I think that the drop in accuracy as you advance through the moves is a natural phenomenon in chess opening prediction models.\n",
    "\n",
    "**Reasons for the drop in accuracy**:\n",
    "1. **Increasing variability** – The first moves of a chess game often follow well-established patterns (such as standard openings), making it easier to predict black's response. As the game progresses, the possibilities multiply and the moves become less predictable.\n",
    "\n",
    "2. **Influence of previous moves** – Each subsequent move depends on the previous choices of both players. This introduces a sequential dependency that a Random Forest model (based on independent decision trees) does not capture very well.\n",
    "\n",
    "3. **Cumulative model errors** – If the model makes small errors in the first moves, these propagate to subsequent predictions, reducing the accuracy on later moves.\n",
    "\n",
    "#### I think the future of this project is to use a model that better captures the temporal dependence, such as recurrent neural networks (LSTM/GRU), which are designed to work with sequential data."
   ]
  },
  {
   "cell_type": "code",
   "execution_count": null,
   "id": "d323c89d",
   "metadata": {
    "papermill": {
     "duration": 0.014072,
     "end_time": "2025-02-10T14:51:53.196639",
     "exception": false,
     "start_time": "2025-02-10T14:51:53.182567",
     "status": "completed"
    },
    "tags": []
   },
   "outputs": [],
   "source": []
  }
 ],
 "metadata": {
  "kaggle": {
   "accelerator": "none",
   "dataSources": [
    {
     "datasetId": 1014390,
     "sourceId": 1712378,
     "sourceType": "datasetVersion"
    }
   ],
   "dockerImageVersionId": 30839,
   "isGpuEnabled": false,
   "isInternetEnabled": true,
   "language": "python",
   "sourceType": "notebook"
  },
  "kernelspec": {
   "display_name": "Python 3",
   "language": "python",
   "name": "python3"
  },
  "language_info": {
   "codemirror_mode": {
    "name": "ipython",
    "version": 3
   },
   "file_extension": ".py",
   "mimetype": "text/x-python",
   "name": "python",
   "nbconvert_exporter": "python",
   "pygments_lexer": "ipython3",
   "version": "3.10.12"
  },
  "papermill": {
   "default_parameters": {},
   "duration": 11.338434,
   "end_time": "2025-02-10T14:51:54.031394",
   "environment_variables": {},
   "exception": null,
   "input_path": "__notebook__.ipynb",
   "output_path": "__notebook__.ipynb",
   "parameters": {},
   "start_time": "2025-02-10T14:51:42.692960",
   "version": "2.6.0"
  }
 },
 "nbformat": 4,
 "nbformat_minor": 5
}
